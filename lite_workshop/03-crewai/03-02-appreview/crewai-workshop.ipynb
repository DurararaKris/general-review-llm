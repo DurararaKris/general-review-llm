{
 "cells": [
  {
   "cell_type": "markdown",
   "metadata": {},
   "source": [
    "# CrewAI Workshop"
   ]
  },
  {
   "cell_type": "markdown",
   "metadata": {},
   "source": [
    "## 1. CrewAI和Seprper 搜索集成 (可选）\n",
    "需要提供Serper API KEY\n",
    "Step 1: init LLM"
   ]
  },
  {
   "cell_type": "code",
   "execution_count": null,
   "metadata": {},
   "outputs": [],
   "source": [
    "from langchain_aws import ChatBedrock\n",
    "\n",
    "def init_bedrock_chat(model_id='anthropic.claude-3-sonnet-20240229-v1:0', region_name='us-east-1'):\n",
    "\n",
    "    model_kwargs =  { \n",
    "        \"max_tokens\": 4096,\n",
    "        \"temperature\": 0.0\n",
    "    }\n",
    "    bedrock_chat = ChatBedrock(model_id=model_id, model_kwargs=model_kwargs, region_name=region_name)\n",
    "    print(\"boto3 Bedrock client successfully created!\")\n",
    "    return bedrock_chat\n",
    "\n",
    "bedrock_llm = init_bedrock_chat()\n",
    "bedrock_llm.invoke('hello')"
   ]
  },
  {
   "cell_type": "markdown",
   "metadata": {},
   "source": [
    "Step 2: Create tools"
   ]
  },
  {
   "cell_type": "code",
   "execution_count": null,
   "metadata": {},
   "outputs": [],
   "source": [
    "import os\n",
    "os.environ[\"SERPER_API_KEY\"] = \"XXXXXXX\"\n",
    "\n",
    "from crewai_tools import SerperDevTool\n",
    "search_tool = SerperDevTool()"
   ]
  },
  {
   "cell_type": "markdown",
   "metadata": {},
   "source": [
    "Step 3 Create Agent"
   ]
  },
  {
   "cell_type": "code",
   "execution_count": null,
   "metadata": {},
   "outputs": [],
   "source": [
    "from crewai import Agent\n",
    "# Define your agents with roles and goals\n",
    "researcher = Agent(\n",
    "  role='Senior Research Analyst',\n",
    "  goal='Uncover cutting-edge developments in AI and data science',\n",
    "  backstory=\"\"\"You work at a leading tech think tank.\n",
    "  Your expertise lies in identifying emerging trends.\n",
    "  You have a knack for dissecting complex data and presenting actionable insights.\"\"\",\n",
    "  verbose=True,\n",
    "  allow_delegation=False,\n",
    "  tools=[search_tool],\n",
    "  llm=bedrock_llm\n",
    ")\n",
    "writer = Agent(\n",
    "  role='Tech Content Strategist',\n",
    "  goal='Craft compelling content on tech advancements',\n",
    "  backstory=\"\"\"You are a renowned Content Strategist, known for your insightful and engaging articles.\n",
    "  You transform complex concepts into compelling narratives.\"\"\",\n",
    "  verbose=True,\n",
    "  allow_delegation=True,\n",
    "  llm=bedrock_llm\n",
    ")"
   ]
  },
  {
   "cell_type": "markdown",
   "metadata": {},
   "source": [
    "Step 4 Create Task"
   ]
  },
  {
   "cell_type": "code",
   "execution_count": null,
   "metadata": {},
   "outputs": [],
   "source": [
    "from crewai import Task\n",
    "\n",
    "task1 = Task(\n",
    "  description=\"\"\"Conduct a comprehensive analysis of the latest advancements in AI in 2024.\n",
    "  Identify key trends, breakthrough technologies, and potential industry impacts.\"\"\",\n",
    "  expected_output=\"Full analysis report in bullet points\",\n",
    "  agent=researcher\n",
    ")\n",
    "\n",
    "task2 = Task(\n",
    "  description=\"\"\"Using the insights provided, develop an engaging blog\n",
    "  post that highlights the most significant AI advancements.\n",
    "  Your post should be informative yet accessible, catering to a tech-savvy audience.\n",
    "  Make it sound cool, avoid complex words so it doesn't sound like AI.\"\"\",\n",
    "  expected_output=\"Full blog post of at least 4 paragraphs\",\n",
    "  agent=writer\n",
    ")"
   ]
  },
  {
   "cell_type": "markdown",
   "metadata": {},
   "source": [
    "Step 5 Kick Off"
   ]
  },
  {
   "cell_type": "code",
   "execution_count": null,
   "metadata": {},
   "outputs": [],
   "source": [
    "from crewai import Crew\n",
    "# Instantiate your crew with a sequential process\n",
    "crew = Crew(\n",
    "  agents=[researcher, writer],\n",
    "  tasks=[task1, task2],\n",
    "  verbose=2, # You can set it to 1 or 2 to different logging levels\n",
    ")\n",
    "\n",
    "# Get your crew to work!\n",
    "result = crew.kickoff()\n",
    "\n",
    "print(\"######################\")\n",
    "print(result)"
   ]
  },
  {
   "cell_type": "markdown",
   "metadata": {},
   "source": [
    "# 2. 使用CrewAI 构建 App Store Review\n",
    "导入第三方库来获取对应的商店数据\n"
   ]
  },
  {
   "cell_type": "code",
   "execution_count": null,
   "metadata": {},
   "outputs": [],
   "source": [
    "from google_play_scraper import search, Sort, reviews"
   ]
  },
  {
   "cell_type": "code",
   "execution_count": null,
   "metadata": {},
   "outputs": [],
   "source": [
    "from langchain.agents import tool \n",
    "@tool\n",
    "def get_google_app_id(app_name:str):\n",
    "    \"\"\"Tool to found Google App Store AppID by app name\"\"\"\n",
    "    try:\n",
    "        result = search(\n",
    "            app_name,\n",
    "            lang=\"en\",  # defaults to 'en'\n",
    "            country=\"us\",  # defaults to 'us'\n",
    "            n_hits=1  # defaults to 30 (= Google's maximum)\n",
    "        )\n",
    "        if len(result)>0:\n",
    "            return result[0]['appId']\n",
    "        else:\n",
    "            return None\n",
    "\n",
    "    except Exception as e:\n",
    "        print(e)\n",
    "        return None"
   ]
  },
  {
   "cell_type": "code",
   "execution_count": null,
   "metadata": {},
   "outputs": [],
   "source": [
    "get_google_app_id('starrail')"
   ]
  },
  {
   "cell_type": "code",
   "execution_count": null,
   "metadata": {},
   "outputs": [],
   "source": [
    "\n",
    "import json\n",
    "from datetime import datetime\n",
    "from langchain.agents import tool\n",
    "from google_play_scraper import Sort, reviews\n",
    "\n",
    "\n",
    "class DateTimeEncoder(json.JSONEncoder):\n",
    "    def default(self, o):\n",
    "        if isinstance(o, datetime):\n",
    "            return o.isoformat()\n",
    "        return super().default(o)\n",
    "\n",
    "\n",
    "def save_review(app_id, data):\n",
    "    with open(f\"output/{app_id}.json\", \"w\", encoding=\"utf-8\") as file:\n",
    "        json.dump(data, file, cls=DateTimeEncoder,\n",
    "                  ensure_ascii=False, indent=4)\n",
    "\n",
    "\n",
    "@tool\n",
    "def get_google_play_app_review(app_id: str, country: str = 'us', rank: int = -1, page: int = 1):\n",
    "    \"\"\"Tool to found Google App Store App reviews by app id ,country ,rank and page\"\"\"\n",
    "    try:\n",
    "\n",
    "        filter_score = None\n",
    "        if rank > 0 and rank < 6:\n",
    "            filter_score = rank\n",
    "        print(f\"{country=}\")\n",
    "        result, continuation_token = reviews(\n",
    "            app_id,\n",
    "            lang='en',  # defaults to 'en'\n",
    "            country=\"us\" if country == \"\" else country,  # defaults to 'us'\n",
    "            sort=Sort.NEWEST,  # defaults to Sort.NEWEST\n",
    "            count=100,  # defaults to 100\n",
    "            filter_score_with=filter_score\n",
    "        )\n",
    "\n",
    "        if continuation_token:\n",
    "            print(f'Have continuation token: {continuation_token}')\n",
    "\n",
    "        save_review(app_id, result)\n",
    "\n",
    "        return [{\"username\": review[\"userName\"], \"content\": review[\"content\"], \"score\": review[\"score\"]} for review in result]\n",
    "    except Exception as e:\n",
    "        print(e)\n",
    "        return []"
   ]
  },
  {
   "cell_type": "code",
   "execution_count": null,
   "metadata": {},
   "outputs": [],
   "source": [
    "get_google_play_app_review('com.miHoYo.GenshinImpact')"
   ]
  },
  {
   "cell_type": "code",
   "execution_count": null,
   "metadata": {},
   "outputs": [],
   "source": [
    "from crewai import Agent\n",
    "review_loader = Agent(\n",
    "    role='App Review Research Analyst',\n",
    "    goal='If user input is app id, you load App review  from a app id',\n",
    "    backstory='Specializes in handling and interpreting app reviews documents',\n",
    "    verbose=True,\n",
    "    tools=[get_google_play_app_review],\n",
    "    allow_delegation=False,\n",
    "    llm=bedrock_llm,\n",
    "    memory=True,\n",
    ")\n",
    "\n",
    "researcher = Agent(\n",
    "  role='Expert App Store reviews summarizer',\n",
    "  goal='Found prices issue , network issue, game content issue in every user\\'s reviews content, you need keep username',\n",
    "  backstory=\"\"\"You are a renowned expert summarizer of AI related \n",
    "  Google App Store User reviews, known for your insightful \n",
    "  and engaging articles. You transform complex concepts into \n",
    "  compelling narratives.\"\"\",\n",
    "  verbose=True,\n",
    "  allow_delegation=True,\n",
    "  llm=bedrock_llm\n",
    "  \n",
    ")"
   ]
  },
  {
   "cell_type": "code",
   "execution_count": null,
   "metadata": {},
   "outputs": [],
   "source": [
    "import sys\n",
    "from crewai import Task, Crew\n",
    "\n",
    "def init_app_crew(store:str,app_name:str,country:str, rank:int=-1,page:int=1, file:str=\"\",output_stream=None):\n",
    "    \"\"\"\n",
    "    This function is the main entry point for the application.\n",
    "    It takes an app name and a review rank , page as input, and returns the result of processing the app reviews.\n",
    "    \"\"\"\n",
    "    \n",
    "    if output_stream is not None:\n",
    "            sys.stdout = output_stream\n",
    "    \n",
    "\n",
    "    # Get the app ID from the app name using the get_google_app_id tool\n",
    "    app_id = get_google_app_id(app_name)\n",
    "        \n",
    "    # Create a task for the review_reader agent to fetch reviews for the given app ID and rank\n",
    "    review_loading_task = Task(\n",
    "        description=f\"\"\"Use store: {store} ,app_name:{app_name} app_id: {app_id} and country:{country}, rank: {rank}, page: {page}\"\"\",\n",
    "        agent=review_loader,\n",
    "        expected_output='A refined finalized version of the blog post in markdown format'\n",
    "    )\n",
    "\n",
    "    content_creation_task = Task(\n",
    "        description=\"\"\"Using the insights provided by the research Analyst agent, if have different score , please calculate every score the percentage\n",
    "        develop an engaging  content, you need use markdown format and translate to chinese. \"\"\",\n",
    "        agent=researcher,\n",
    "        expected_output=f'A refined finalized version of the blog post in markdown format,need include store: {store} , app_id: {app_id} and country:{country},translate to chinese.'\n",
    "    )\n",
    "\n",
    "    # Instantiate a Crew with the review_reader and researcher agents, and the tasks to be performed\n",
    "    # Set the logging level to 2 (more verbose)\n",
    "    crew = Crew(\n",
    "        agents=[review_loader, researcher],\n",
    "        tasks=[review_loading_task, content_creation_task],\n",
    "        verbose=2, \n",
    "    )\n",
    "\n",
    "    return app_id,crew"
   ]
  },
  {
   "cell_type": "code",
   "execution_count": null,
   "metadata": {},
   "outputs": [],
   "source": [
    "app_id, crew=init_app_crew('Google Play', 'genshin', \"us\", -1)"
   ]
  },
  {
   "cell_type": "code",
   "execution_count": null,
   "metadata": {
    "scrolled": true
   },
   "outputs": [],
   "source": [
    "result = crew.kickoff()"
   ]
  },
  {
   "cell_type": "markdown",
   "metadata": {},
   "source": [
    "将代码整合到一起"
   ]
  },
  {
   "cell_type": "code",
   "execution_count": null,
   "metadata": {
    "scrolled": true
   },
   "outputs": [],
   "source": [
    "from langchain_aws import ChatBedrock\n",
    "from langchain.agents import tool \n",
    "from google_play_scraper import search, Sort, reviews\n",
    "import json\n",
    "from datetime import datetime\n",
    "from langchain.agents import tool\n",
    "from google_play_scraper import Sort, reviews\n",
    "from crewai import Agent\n",
    "import sys\n",
    "from crewai import Task, Crew\n",
    "\n",
    "def init_bedrock_chat(model_id='anthropic.claude-3-sonnet-20240229-v1:0', region_name='us-east-1'):\n",
    "\n",
    "    model_kwargs =  { \n",
    "        \"max_tokens\": 4096,\n",
    "        \"temperature\": 0.0\n",
    "    }\n",
    "    bedrock_chat = ChatBedrock(model_id=model_id, model_kwargs=model_kwargs, region_name=region_name)\n",
    "    print(\"boto3 Bedrock client successfully created!\")\n",
    "    return bedrock_chat\n",
    "\n",
    "\n",
    "bedrock_llm = init_bedrock_chat()\n",
    "\n",
    "\n",
    "@tool\n",
    "def get_google_app_id(app_name:str):\n",
    "    \"\"\"Tool to found Google App Store AppID by app name\"\"\"\n",
    "    try:\n",
    "        result = search(\n",
    "            app_name,\n",
    "            lang=\"en\",  # defaults to 'en'\n",
    "            country=\"us\",  # defaults to 'us'\n",
    "            n_hits=1  # defaults to 30 (= Google's maximum)\n",
    "        )\n",
    "        if len(result)>0:\n",
    "            return result[0]['appId']\n",
    "        else:\n",
    "            return None\n",
    "\n",
    "    except Exception as e:\n",
    "        print(e)\n",
    "        return None\n",
    "\n",
    "\n",
    "\n",
    "class DateTimeEncoder(json.JSONEncoder):\n",
    "    def default(self, o):\n",
    "        if isinstance(o, datetime):\n",
    "            return o.isoformat()\n",
    "        return super().default(o)\n",
    "\n",
    "\n",
    "def save_review(app_id, data):\n",
    "    with open(f\"output/{app_id}.json\", \"w\", encoding=\"utf-8\") as file:\n",
    "        json.dump(data, file, cls=DateTimeEncoder,\n",
    "                  ensure_ascii=False, indent=4)\n",
    "\n",
    "\n",
    "@tool\n",
    "def get_google_play_app_review(app_id: str, country: str = 'us', rank: int = -1, page: int = 1):\n",
    "    \"\"\"Tool to found Google App Store App reviews by app id ,country ,rank and page\"\"\"\n",
    "    try:\n",
    "\n",
    "        filter_score = None\n",
    "        if rank > 0 and rank < 6:\n",
    "            filter_score = rank\n",
    "        print(f\"{country=}\")\n",
    "        result, continuation_token = reviews(\n",
    "            app_id,\n",
    "            lang='en',  # defaults to 'en'\n",
    "            country=\"us\" if country == \"\" else country,  # defaults to 'us'\n",
    "            sort=Sort.NEWEST,  # defaults to Sort.NEWEST\n",
    "            count=100,  # defaults to 100\n",
    "            filter_score_with=filter_score\n",
    "        )\n",
    "\n",
    "        if continuation_token:\n",
    "            print(f'Have continuation token: {continuation_token}')\n",
    "\n",
    "        # if len(result) > 0:\n",
    "        #     process_app_review_with_llm(result)\n",
    "        save_review(app_id, result)\n",
    "        # with open(f\"output/{app_id}.json\", \"w\", encoding=\"utf-8\") as file:\n",
    "        #     json.dump(result, file, cls=DateTimeEncoder,ensure_ascii=False, indent=4)\n",
    "\n",
    "        return [{\"username\": review[\"userName\"], \"content\": review[\"content\"], \"score\": review[\"score\"]} for review in result]\n",
    "    except Exception as e:\n",
    "        print(e)\n",
    "        return []\n",
    "    \n",
    "\n",
    "review_loader = Agent(\n",
    "    role='App Review Research Analyst',\n",
    "    goal='If user input is app id, you load App review  from a app id',\n",
    "    backstory='Specializes in handling and interpreting app reviews documents',\n",
    "    verbose=True,\n",
    "    tools=[get_google_play_app_review],\n",
    "    allow_delegation=False,\n",
    "    llm=bedrock_llm,\n",
    "    memory=True,\n",
    ")\n",
    "\n",
    "researcher = Agent(\n",
    "  role='Expert App Store reviews summarizer',\n",
    "  goal='Found prices issue , network issue, game content issue in every user\\'s reviews content, you need keep username',\n",
    "  backstory=\"\"\"You are a renowned expert summarizer of AI related \n",
    "  Google App Store User reviews, known for your insightful \n",
    "  and engaging articles. You transform complex concepts into \n",
    "  compelling narratives.\"\"\",\n",
    "  verbose=True,\n",
    "  allow_delegation=True,\n",
    "  llm=bedrock_llm\n",
    "  \n",
    ")\n",
    "\n",
    "\n",
    "\n",
    "def init_app_crew(store:str,app_name:str,country:str, rank:int=-1,page:int=1, file:str=\"\",output_stream=None):\n",
    "    \"\"\"\n",
    "    This function is the main entry point for the application.\n",
    "    It takes an app name and a review rank , page as input, and returns the result of processing the app reviews.\n",
    "    \"\"\"\n",
    "    \n",
    "    if output_stream is not None:\n",
    "            sys.stdout = output_stream\n",
    "    \n",
    "\n",
    "    # Get the app ID from the app name using the get_google_app_id tool\n",
    "    app_id = get_google_app_id(app_name)\n",
    "        \n",
    "    # Create a task for the review_reader agent to fetch reviews for the given app ID and rank\n",
    "    review_loading_task = Task(\n",
    "        description=f\"\"\"Use store: {store} ,app_name:{app_name} app_id: {app_id} and country:{country}, rank: {rank}, page: {page}\"\"\",\n",
    "        agent=review_loader,\n",
    "        expected_output='A refined finalized version of the blog post in markdown format'\n",
    "    )\n",
    "\n",
    "    content_creation_task = Task(\n",
    "        description=\"\"\"Using the insights provided by the research Analyst agent, if have different score , please calculate every score the percentage\n",
    "        develop an engaging  content, you need use markdown format and translate to chinese. \"\"\",\n",
    "        agent=researcher,\n",
    "        expected_output=f'A refined finalized version of the blog post in markdown format,need include store: {store} , app_id: {app_id} and country:{country},translate to chinese.'\n",
    "    )\n",
    "\n",
    "    # Instantiate a Crew with the review_reader and researcher agents, and the tasks to be performed\n",
    "    # Set the logging level to 2 (more verbose)\n",
    "    crew = Crew(\n",
    "        agents=[review_loader, researcher],\n",
    "        tasks=[review_loading_task, content_creation_task],\n",
    "        verbose=2, \n",
    "    )\n",
    "\n",
    "    return app_id,crew\n",
    "\n",
    "app_id, crew=init_app_crew('Google Play', 'genshin', \"us\", -1)\n",
    "crew.kickoff()"
   ]
  },
  {
   "cell_type": "markdown",
   "metadata": {},
   "source": [
    "# 3 启动GUI\n",
    "使用streamlit 启动GUI, 需要创建一个output目录"
   ]
  },
  {
   "cell_type": "code",
   "execution_count": null,
   "metadata": {},
   "outputs": [],
   "source": [
    "!mkdir output "
   ]
  },
  {
   "cell_type": "raw",
   "metadata": {},
   "source": [
    "!streamlit run main_workshop.py"
   ]
  }
 ],
 "metadata": {
  "kernelspec": {
   "display_name": "Python 3 (ipykernel)",
   "language": "python",
   "name": "python3"
  },
  "language_info": {
   "codemirror_mode": {
    "name": "ipython",
    "version": 3
   },
   "file_extension": ".py",
   "mimetype": "text/x-python",
   "name": "python",
   "nbconvert_exporter": "python",
   "pygments_lexer": "ipython3",
   "version": "3.11.6"
  }
 },
 "nbformat": 4,
 "nbformat_minor": 4
}
