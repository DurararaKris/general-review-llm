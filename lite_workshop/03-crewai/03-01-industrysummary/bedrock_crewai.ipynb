{
 "cells": [
  {
   "cell_type": "markdown",
   "id": "a095028a",
   "metadata": {},
   "source": [
    "#### 实验介绍：\n",
    "##### 将介绍如何通过 Amazon Bedrock 和 CrewAI 框架利用 Anthropic 的 Claude-3 语言模型的强大功能，从而将大型语言模型和代理工作流的定义无缝集成到自定义 AI 应用程序中"
   ]
  },
  {
   "cell_type": "code",
   "execution_count": 1,
   "id": "af6670c5",
   "metadata": {},
   "outputs": [],
   "source": [
    "from langchain_aws import ChatBedrock\n",
    "from langchain_core.messages import HumanMessage"
   ]
  },
  {
   "cell_type": "code",
   "execution_count": 2,
   "id": "ba025ef4",
   "metadata": {},
   "outputs": [],
   "source": [
    "chat = ChatBedrock(\n",
    "    model_id=\"anthropic.claude-3-sonnet-20240229-v1:0\",\n",
    "    model_kwargs={\"temperature\": 0.1},\n",
    "    region_name=\"us-east-1\"\n",
    ")"
   ]
  },
  {
   "cell_type": "code",
   "execution_count": 3,
   "id": "dd3ba4ea",
   "metadata": {},
   "outputs": [
    {
     "data": {
      "text/plain": [
       "AIMessage(content=\"Voici la traduction en français :\\n\\nJ'aime la programmation.\", additional_kwargs={'usage': {'prompt_tokens': 20, 'completion_tokens': 21, 'total_tokens': 41}}, response_metadata={'model_id': 'anthropic.claude-3-sonnet-20240229-v1:0', 'usage': {'prompt_tokens': 20, 'completion_tokens': 21, 'total_tokens': 41}}, id='run-062cd5ae-2fb2-4cb4-83a3-6c30d39de27f-0')"
      ]
     },
     "execution_count": 3,
     "metadata": {},
     "output_type": "execute_result"
    }
   ],
   "source": [
    "messages = [\n",
    "    HumanMessage(\n",
    "        content=\"Translate this sentence from English to French. I love programming.\"\n",
    "    )\n",
    "]\n",
    "chat.invoke(messages)"
   ]
  },
  {
   "cell_type": "markdown",
   "id": "41534dae",
   "metadata": {},
   "source": [
    "##### 流式输出"
   ]
  },
  {
   "cell_type": "code",
   "execution_count": 4,
   "id": "19e424c6",
   "metadata": {},
   "outputs": [
    {
     "name": "stdout",
     "output_type": "stream",
     "text": [
      "Voici la traduction en français :\n",
      "\n",
      "J'aime la programmation."
     ]
    }
   ],
   "source": [
    "for chunk in chat.stream(messages):\n",
    "    print(chunk.content, end=\"\", flush=True)"
   ]
  },
  {
   "cell_type": "markdown",
   "id": "ee2e94cb",
   "metadata": {},
   "source": [
    "##### 使用ChatPromptTemplate"
   ]
  },
  {
   "cell_type": "code",
   "execution_count": 5,
   "id": "0fb14bbd",
   "metadata": {},
   "outputs": [],
   "source": [
    "from langchain_core.prompts import ChatPromptTemplate"
   ]
  },
  {
   "cell_type": "code",
   "execution_count": 6,
   "id": "be8d16df",
   "metadata": {},
   "outputs": [
    {
     "data": {
      "text/plain": [
       "AIMessage(content='我喜欢Python', additional_kwargs={'usage': {'prompt_tokens': 22, 'completion_tokens': 10, 'total_tokens': 32}}, response_metadata={'model_id': 'anthropic.claude-3-sonnet-20240229-v1:0', 'usage': {'prompt_tokens': 22, 'completion_tokens': 10, 'total_tokens': 32}}, id='run-ee7579ff-7e9d-4cb6-ada9-4e19939e4c45-0')"
      ]
     },
     "execution_count": 6,
     "metadata": {},
     "output_type": "execute_result"
    }
   ],
   "source": [
    "system = (\n",
    "    \"You are a helpful assistant that translates {input_language} to {output_language}.\"\n",
    ")\n",
    "human = \"{text}\"\n",
    "prompt = ChatPromptTemplate.from_messages([(\"system\", system), (\"human\", human)])\n",
    "\n",
    "chain = prompt | chat\n",
    "chain.invoke(\n",
    "    {\n",
    "        \"input_language\": \"English\",\n",
    "        \"output_language\": \"Chinese\",\n",
    "        \"text\": \"I love Python\",\n",
    "    }\n",
    ")"
   ]
  },
  {
   "cell_type": "markdown",
   "id": "77df6997",
   "metadata": {},
   "source": [
    "##### ChatAnthropic 也支持async和streaming功能:"
   ]
  },
  {
   "cell_type": "code",
   "execution_count": 7,
   "id": "59cc6339",
   "metadata": {},
   "outputs": [
    {
     "data": {
      "text/plain": [
       "AIMessage(content=\"Here's a bear joke for you:\\n\\nWhy did the bear dissolve in water?\\nBecause it was a polar bear!\", additional_kwargs={'usage': {'prompt_tokens': 13, 'completion_tokens': 29, 'total_tokens': 42}}, response_metadata={'model_id': 'anthropic.claude-3-sonnet-20240229-v1:0', 'usage': {'prompt_tokens': 13, 'completion_tokens': 29, 'total_tokens': 42}}, id='run-e502f851-651e-4e91-8bdf-a3c0e060b324-0')"
      ]
     },
     "execution_count": 7,
     "metadata": {},
     "output_type": "execute_result"
    }
   ],
   "source": [
    "prompt = ChatPromptTemplate.from_messages([(\"human\", \"Tell me a joke about {topic}\")])\n",
    "chain = prompt | chat\n",
    "await chain.ainvoke({\"topic\": \"bear\"})"
   ]
  },
  {
   "cell_type": "code",
   "execution_count": 8,
   "id": "3d76c3ba",
   "metadata": {},
   "outputs": [
    {
     "name": "stdout",
     "output_type": "stream",
     "text": [
      "Here are some of the most famous tourist attractions in Japan:\n",
      "\n",
      "1. Mount Fuji - The iconic snow-capped mountain and highest peak in Japan.\n",
      "2. Imperial Palace and Gardens (Tokyo) - The primary residence of the Emperor of Japan.\n",
      "3. Sensoji Temple (Tokyo) - An ancient Buddhist temple and one of Tokyo's most colorful and popular temples.\n",
      "4. Fushimi Inari Shrine (Kyoto) - Known for its thousands of vermilion torii gates.\n",
      "5. Hiroshima Peace Memorial Park and Museum - A memorial to the atomic bombing of Hiroshima in 1945.\n",
      "6. Kinkakuji (Golden Pavilion) (Kyoto) - A Zen Buddhist temple with a golden pavilion set in a pond.\n",
      "7. Nijo Castle (Kyoto) - A famous wooden castle known for its \"nightingale floors\" that squeak to warn of intruders.\n",
      "8. Himeji Castle - One of Japan's most impressive and well-preserved feudal castles.\n",
      "9. Jigoku-Meguri (Hell Tour) (Beppu) - A tour of hot springs and steaming pools resembling a hellish landscape.\n",
      "10. Tsukiji Fish Market (Tokyo) - The world's largest fish market, famous for its tuna auctions.\n",
      "11. Miyajima Island and Itsukushima Shrine (Hiroshima) - A Shinto shrine known for its \"floating\" torii gate at high tide.\n",
      "12. Shibuya Crossing (Tokyo) - One of the world's busiest pedestrian crossings.\n",
      "13. Arashiyama Bamboo Grove (Kyoto) - A picturesque walking path through towering bamboo groves.\n",
      "14. Gion District (Kyoto) - The famous geisha district with traditional wooden machiya houses.\n",
      "15. Dotonbori (Osaka) - A popular entertainment district known for its neon lights and street food."
     ]
    }
   ],
   "source": [
    "prompt = ChatPromptTemplate.from_messages(\n",
    "    [(\"human\", \"Give me a list of famous tourist attractions in Japan\")]\n",
    ")\n",
    "chain = prompt | chat\n",
    "for chunk in chain.stream({}):\n",
    "    print(chunk.content, end=\"\", flush=True)"
   ]
  },
  {
   "cell_type": "markdown",
   "id": "9191b1e9",
   "metadata": {},
   "source": [
    "#### 接下来将使用CrewAI建立了一个名为“ 资深行业分析师“  的代理，旨在发现人工智能和数据科学的前沿发展。然后，它分配了一项任务，对 2024 年最新的人工智能进展进行全面分析，预期输出是一份要点报告。最后，它使用代理和任务创建一个“Crew”实例，并执行工作流"
   ]
  },
  {
   "cell_type": "code",
   "execution_count": 9,
   "id": "87d06548",
   "metadata": {},
   "outputs": [],
   "source": [
    "from crewai import Agent, Task, Crew\n",
    "from crewai_tools import SerperDevTool\n",
    "\n",
    "researcher = Agent(\n",
    " role='资深行业分析师',\n",
    " goal='揭示人工智能和数据科学的前沿发展',\n",
    " backstory=\"你在一家领先的科技智库工作…\",\n",
    " verbose=True,\n",
    " allow_delegation=False,\n",
    " llm=chat,\n",
    " tool=[SerperDevTool()]\n",
    ")\n",
    "task1 = Task(\n",
    " description=\"对2024年人工智能的最新进展进行全面分析…\",\n",
    " expected_output=\"中文分析报告\",\n",
    " agent=researcher\n",
    ")\n",
    "crew = Crew(\n",
    " agents=[researcher],\n",
    " tasks=[task1],\n",
    " verbose=2,\n",
    ")"
   ]
  },
  {
   "cell_type": "code",
   "execution_count": 10,
   "id": "b580189d",
   "metadata": {},
   "outputs": [
    {
     "name": "stdout",
     "output_type": "stream",
     "text": [
      "\u001b[1m\u001b[95m [DEBUG]: == Working Agent: 资深行业分析师\u001b[00m\n",
      "\u001b[1m\u001b[95m [INFO]: == Starting Task: 对2024年人工智能的最新进展进行全面分析…\u001b[00m\n",
      "\n",
      "\n",
      "\u001b[1m> Entering new CrewAgentExecutor chain...\u001b[0m\n",
      "\u001b[32;1m\u001b[1;3m好的,我会尽力提供一份全面的2024年人工智能最新进展分析报告。\n",
      "\n",
      "Final Answer:\n",
      "\n",
      "2024年人工智能最新进展分析报告\n",
      "\n",
      "引言\n",
      "\n",
      "人工智能技术在过去几年取得了长足进步,并在各行各业得到广泛应用。2024年,人工智能将继续快速发展,在多个领域出现突破性进展。本报告将全面分析2024年人工智能最新进展,包括计算能力、算法模型、应用场景等多个方面。\n",
      "\n",
      "一、计算能力的飞速提升\n",
      "\n",
      "计算能力是推动人工智能发展的关键驱动力。2024年,全球超级计算机性能将再次大幅提升,量子计算机也将开始投入使用。这将为训练大规模人工智能模型提供强大算力支持。同时,专用AI芯片的性能也将持续提高,使得人工智能系统在边缘设备上的运行更加高效。\n",
      "\n",
      "二、通用人工智能模型取得突破\n",
      "\n",
      "2024年,通用人工智能模型将取得重大突破。基于大规模语料训练的大型语言模型将进一步优化,在自然语言理解、生成、推理等方面表现出超人类水平。同时,结合多模态数据(图像、视频等)训练的多模态模型也将问世,显著提升人工智能系统的认知和理解能力。\n",
      "\n",
      "三、人工智能在重要领域的创新应用\n",
      "\n",
      "2024年,人工智能将在医疗健康、智能制造、智能交通等重要领域出现大量创新应用。\n",
      "\n",
      "1) 医疗健康领域,人工智能将广泛应用于疾病诊断、药物研发、医疗影像分析等环节,大幅提高医疗质量和效率。\n",
      "\n",
      "2) 智能制造领域,人工智能将深度融入产品设计、工艺优化、质量控制等全流程,推动制造业向智能化、柔性化转型。\n",
      "\n",
      "3) 智能交通领域,自动驾驶技术将取得重大进展,无人驾驶汽车将开始在特定场景下投入使用。同时,人工智能也将优化交通规划和调度,显著提升交通运行效率。\n",
      "\n",
      "四、人工智能安全与伦理问题日益受重视\n",
      "\n",
      "随着人工智能技术的不断发展和广泛应用,人工智能系统的安全性和伦理问题也将日益受到重视。2024年,人工智能系统的可解释性、公平性、隐私保护等问题将成为研究热点。同时,人工智能治理框架也将逐步完善,以确保人工智能技术的可控发展和负责任使用。\n",
      "\n",
      "总结\n",
      "\n",
      "2024年将是人工智能发展的重要一年。计算能力的飞速提升、通用人工智能模型的突破性进展,以及人工智能在重要领域的创新应用,将推动人工智能技术取得跨越式发展。与此同时,人工智能安全与伦理问题也将日益受到重视。我们有理由相信,2024年人工智能将为人类社会带来更多惊喜与机遇。\u001b[0m\n",
      "\n",
      "\u001b[1m> Finished chain.\u001b[0m\n",
      "\u001b[1m\u001b[92m [DEBUG]: == [资深行业分析师] Task output: 2024年人工智能最新进展分析报告\n",
      "\n",
      "引言\n",
      "\n",
      "人工智能技术在过去几年取得了长足进步,并在各行各业得到广泛应用。2024年,人工智能将继续快速发展,在多个领域出现突破性进展。本报告将全面分析2024年人工智能最新进展,包括计算能力、算法模型、应用场景等多个方面。\n",
      "\n",
      "一、计算能力的飞速提升\n",
      "\n",
      "计算能力是推动人工智能发展的关键驱动力。2024年,全球超级计算机性能将再次大幅提升,量子计算机也将开始投入使用。这将为训练大规模人工智能模型提供强大算力支持。同时,专用AI芯片的性能也将持续提高,使得人工智能系统在边缘设备上的运行更加高效。\n",
      "\n",
      "二、通用人工智能模型取得突破\n",
      "\n",
      "2024年,通用人工智能模型将取得重大突破。基于大规模语料训练的大型语言模型将进一步优化,在自然语言理解、生成、推理等方面表现出超人类水平。同时,结合多模态数据(图像、视频等)训练的多模态模型也将问世,显著提升人工智能系统的认知和理解能力。\n",
      "\n",
      "三、人工智能在重要领域的创新应用\n",
      "\n",
      "2024年,人工智能将在医疗健康、智能制造、智能交通等重要领域出现大量创新应用。\n",
      "\n",
      "1) 医疗健康领域,人工智能将广泛应用于疾病诊断、药物研发、医疗影像分析等环节,大幅提高医疗质量和效率。\n",
      "\n",
      "2) 智能制造领域,人工智能将深度融入产品设计、工艺优化、质量控制等全流程,推动制造业向智能化、柔性化转型。\n",
      "\n",
      "3) 智能交通领域,自动驾驶技术将取得重大进展,无人驾驶汽车将开始在特定场景下投入使用。同时,人工智能也将优化交通规划和调度,显著提升交通运行效率。\n",
      "\n",
      "四、人工智能安全与伦理问题日益受重视\n",
      "\n",
      "随着人工智能技术的不断发展和广泛应用,人工智能系统的安全性和伦理问题也将日益受到重视。2024年,人工智能系统的可解释性、公平性、隐私保护等问题将成为研究热点。同时,人工智能治理框架也将逐步完善,以确保人工智能技术的可控发展和负责任使用。\n",
      "\n",
      "总结\n",
      "\n",
      "2024年将是人工智能发展的重要一年。计算能力的飞速提升、通用人工智能模型的突破性进展,以及人工智能在重要领域的创新应用,将推动人工智能技术取得跨越式发展。与此同时,人工智能安全与伦理问题也将日益受到重视。我们有理由相信,2024年人工智能将为人类社会带来更多惊喜与机遇。\n",
      "\n",
      "\u001b[00m\n"
     ]
    }
   ],
   "source": [
    "result = crew.kickoff()"
   ]
  },
  {
   "cell_type": "code",
   "execution_count": null,
   "id": "fca8015d",
   "metadata": {},
   "outputs": [],
   "source": []
  }
 ],
 "metadata": {
  "kernelspec": {
   "display_name": "Python 3 (ipykernel)",
   "language": "python",
   "name": "python3"
  },
  "language_info": {
   "codemirror_mode": {
    "name": "ipython",
    "version": 3
   },
   "file_extension": ".py",
   "mimetype": "text/x-python",
   "name": "python",
   "nbconvert_exporter": "python",
   "pygments_lexer": "ipython3",
   "version": "3.11.6"
  }
 },
 "nbformat": 4,
 "nbformat_minor": 5
}
