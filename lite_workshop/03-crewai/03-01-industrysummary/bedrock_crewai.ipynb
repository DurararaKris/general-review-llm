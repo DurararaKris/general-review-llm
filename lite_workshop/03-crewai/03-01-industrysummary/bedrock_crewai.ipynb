{
 "cells": [
  {
   "cell_type": "markdown",
   "id": "a095028a",
   "metadata": {},
   "source": [
    "#### 实验介绍：\n",
    "##### 将介绍如何通过 Amazon Bedrock 和 CrewAI 框架利用 Anthropic 的 Claude-3 语言模型的强大功能，从而将大型语言模型和代理工作流的定义无缝集成到自定义 AI 应用程序中"
   ]
  },
  {
   "cell_type": "code",
   "execution_count": 1,
   "id": "386510db",
   "metadata": {},
   "outputs": [
    {
     "name": "stdout",
     "output_type": "stream",
     "text": [
      "Note: you may need to restart the kernel to use updated packages.\n"
     ]
    }
   ],
   "source": [
    "pip install -Uq langchain-anthropic crewai langchain-aws boto3 langchain_community  crewai_tools"
   ]
  },
  {
   "cell_type": "code",
   "execution_count": 2,
   "id": "af6670c5",
   "metadata": {},
   "outputs": [],
   "source": [
    "from langchain_aws import ChatBedrock\n",
    "from langchain_core.messages import HumanMessage"
   ]
  },
  {
   "cell_type": "code",
   "execution_count": 3,
   "id": "ba025ef4",
   "metadata": {},
   "outputs": [],
   "source": [
    "chat = ChatBedrock(\n",
    "    model_id=\"anthropic.claude-3-sonnet-20240229-v1:0\",\n",
    "    model_kwargs={\"temperature\": 0.1},\n",
    ")"
   ]
  },
  {
   "cell_type": "code",
   "execution_count": 4,
   "id": "dd3ba4ea",
   "metadata": {},
   "outputs": [
    {
     "data": {
      "text/plain": [
       "AIMessage(content=\"Voici la traduction en français :\\n\\nJ'aime la programmation.\", additional_kwargs={'usage': {'prompt_tokens': 20, 'completion_tokens': 21, 'total_tokens': 41}}, response_metadata={'model_id': 'anthropic.claude-3-sonnet-20240229-v1:0', 'usage': {'prompt_tokens': 20, 'completion_tokens': 21, 'total_tokens': 41}}, id='run-04c63f31-9039-4937-8b0e-6256f1f1042e-0')"
      ]
     },
     "execution_count": 4,
     "metadata": {},
     "output_type": "execute_result"
    }
   ],
   "source": [
    "messages = [\n",
    "    HumanMessage(\n",
    "        content=\"Translate this sentence from English to French. I love programming.\"\n",
    "    )\n",
    "]\n",
    "chat.invoke(messages)"
   ]
  },
  {
   "cell_type": "markdown",
   "id": "41534dae",
   "metadata": {},
   "source": [
    "##### 流式输出"
   ]
  },
  {
   "cell_type": "code",
   "execution_count": 5,
   "id": "19e424c6",
   "metadata": {},
   "outputs": [
    {
     "name": "stdout",
     "output_type": "stream",
     "text": [
      "Voici la traduction en français :\n",
      "\n",
      "J'aime la programmation."
     ]
    }
   ],
   "source": [
    "for chunk in chat.stream(messages):\n",
    "    print(chunk.content, end=\"\", flush=True)"
   ]
  },
  {
   "cell_type": "markdown",
   "id": "ee2e94cb",
   "metadata": {},
   "source": [
    "##### 使用ChatPromptTemplate"
   ]
  },
  {
   "cell_type": "code",
   "execution_count": 6,
   "id": "0fb14bbd",
   "metadata": {},
   "outputs": [],
   "source": [
    "from langchain_core.prompts import ChatPromptTemplate"
   ]
  },
  {
   "cell_type": "code",
   "execution_count": 7,
   "id": "be8d16df",
   "metadata": {},
   "outputs": [
    {
     "data": {
      "text/plain": [
       "AIMessage(content='我喜欢Python', additional_kwargs={'usage': {'prompt_tokens': 22, 'completion_tokens': 10, 'total_tokens': 32}}, response_metadata={'model_id': 'anthropic.claude-3-sonnet-20240229-v1:0', 'usage': {'prompt_tokens': 22, 'completion_tokens': 10, 'total_tokens': 32}}, id='run-5c741b00-3b68-47fd-8a7c-353a9fdaa947-0')"
      ]
     },
     "execution_count": 7,
     "metadata": {},
     "output_type": "execute_result"
    }
   ],
   "source": [
    "system = (\n",
    "    \"You are a helpful assistant that translates {input_language} to {output_language}.\"\n",
    ")\n",
    "human = \"{text}\"\n",
    "prompt = ChatPromptTemplate.from_messages([(\"system\", system), (\"human\", human)])\n",
    "\n",
    "chain = prompt | chat\n",
    "chain.invoke(\n",
    "    {\n",
    "        \"input_language\": \"English\",\n",
    "        \"output_language\": \"Chinese\",\n",
    "        \"text\": \"I love Python\",\n",
    "    }\n",
    ")"
   ]
  },
  {
   "cell_type": "markdown",
   "id": "77df6997",
   "metadata": {},
   "source": [
    "##### ChatAnthropic 也支持async和streaming功能:"
   ]
  },
  {
   "cell_type": "code",
   "execution_count": 8,
   "id": "59cc6339",
   "metadata": {},
   "outputs": [
    {
     "data": {
      "text/plain": [
       "AIMessage(content=\"Here's a bear joke for you:\\n\\nWhy did the bear dissolve in water?\\nBecause it was a polar bear!\", additional_kwargs={'usage': {'prompt_tokens': 13, 'completion_tokens': 29, 'total_tokens': 42}}, response_metadata={'model_id': 'anthropic.claude-3-sonnet-20240229-v1:0', 'usage': {'prompt_tokens': 13, 'completion_tokens': 29, 'total_tokens': 42}}, id='run-97b5c295-5616-4dfb-be2a-4501bf111fb1-0')"
      ]
     },
     "execution_count": 8,
     "metadata": {},
     "output_type": "execute_result"
    }
   ],
   "source": [
    "prompt = ChatPromptTemplate.from_messages([(\"human\", \"Tell me a joke about {topic}\")])\n",
    "chain = prompt | chat\n",
    "await chain.ainvoke({\"topic\": \"bear\"})"
   ]
  },
  {
   "cell_type": "code",
   "execution_count": 9,
   "id": "3d76c3ba",
   "metadata": {},
   "outputs": [
    {
     "name": "stdout",
     "output_type": "stream",
     "text": [
      "Here are some of the most famous tourist attractions in Japan:\n",
      "\n",
      "1. Mount Fuji - The iconic snow-capped mountain and highest peak in Japan.\n",
      "2. Imperial Palace and Gardens (Tokyo) - The primary residence of the Emperor of Japan.\n",
      "3. Sensoji Temple (Tokyo) - An ancient Buddhist temple and one of Tokyo's most colorful and popular temples.\n",
      "4. Fushimi Inari Shrine (Kyoto) - Known for its thousands of vermilion torii gates.\n",
      "5. Hiroshima Peace Memorial Park and Museum - A memorial to the atomic bombing of Hiroshima in 1945.\n",
      "6. Kinkakuji (Golden Pavilion) (Kyoto) - A Zen Buddhist temple with a golden pavilion set in a beautiful garden.\n",
      "7. Himeji Castle - One of Japan's most impressive and well-preserved feudal castles.\n",
      "8. Miyajima Island and Itsukushima Shrine - A UNESCO World Heritage site with a famous \"floating\" torii gate.\n",
      "9. Shibuya Crossing (Tokyo) - One of the busiest pedestrian crossings in the world.\n",
      "10. Jigoku-Meguri (Hell Tour) (Beppu) - A tour of hot springs and steaming pools resembling a \"hellish\" landscape.\n",
      "11. Tsukiji Fish Market (Tokyo) - The world's largest fish market, famous for its tuna auctions.\n",
      "12. Arashiyama Bamboo Grove (Kyoto) - A picturesque walking path through towering bamboo groves.\n",
      "13. Osaka Castle - An iconic Japanese castle with a striking green roof.\n",
      "14. Gion District (Kyoto) - The famous geisha district with traditional wooden machiya houses.\n",
      "15. Dōtonbori (Osaka) - A popular entertainment district with neon lights and the famous Glico Running Man sign."
     ]
    }
   ],
   "source": [
    "prompt = ChatPromptTemplate.from_messages(\n",
    "    [(\"human\", \"Give me a list of famous tourist attractions in Japan\")]\n",
    ")\n",
    "chain = prompt | chat\n",
    "for chunk in chain.stream({}):\n",
    "    print(chunk.content, end=\"\", flush=True)"
   ]
  },
  {
   "cell_type": "markdown",
   "id": "9191b1e9",
   "metadata": {},
   "source": [
    "###### 接下来将建立了一个名为“ 资深行业分析师“  的代理，旨在发现人工智能和数据科学的前沿发展。然后，它分配了一项任务，对 2024 年最新的人工智能进展进行全面分析，预期输出是一份要点报告。最后，它使用代理和任务创建一个“Crew”实例，并执行工作流"
   ]
  },
  {
   "cell_type": "code",
   "execution_count": null,
   "id": "ea08d84e",
   "metadata": {},
   "outputs": [],
   "source": []
  },
  {
   "cell_type": "code",
   "execution_count": 10,
   "id": "87d06548",
   "metadata": {},
   "outputs": [],
   "source": [
    "from crewai import Agent, Task, Crew\n",
    "from crewai_tools import SerperDevTool\n",
    "\n",
    "researcher = Agent(\n",
    " role='资深行业分析师',\n",
    " goal='揭示人工智能和数据科学的前沿发展',\n",
    " backstory=\"你在一家领先的科技智库工作…\",\n",
    " verbose=True,\n",
    " allow_delegation=False,\n",
    " llm=chat,\n",
    " tool=[SerperDevTool()]\n",
    ")\n",
    "task1 = Task(\n",
    " description=\"对2024年人工智能的最新进展进行全面分析…\",\n",
    " expected_output=\"中文分析报告\",\n",
    " agent=researcher\n",
    ")\n",
    "crew = Crew(\n",
    " agents=[researcher],\n",
    " tasks=[task1],\n",
    " verbose=2,\n",
    ")"
   ]
  },
  {
   "cell_type": "code",
   "execution_count": 11,
   "id": "b580189d",
   "metadata": {},
   "outputs": [
    {
     "name": "stdout",
     "output_type": "stream",
     "text": [
      "\u001b[1m\u001b[95m [DEBUG]: == Working Agent: 资深行业分析师\u001b[00m\n",
      "\u001b[1m\u001b[95m [INFO]: == Starting Task: 对2024年人工智能的最新进展进行全面分析…\u001b[00m\n",
      "\n",
      "\n",
      "\u001b[1m> Entering new CrewAgentExecutor chain...\u001b[0m\n",
      "\u001b[32;1m\u001b[1;3m\u001b[0m\u001b[32;1m\u001b[1;3mThought: I now can give a great answer\n",
      "\n",
      "Final Answer:\n",
      "\n",
      "2024年人工智能最新进展全面分析报告\n",
      "\n",
      "前言\n",
      "\n",
      "人工智能(AI)是当今科技领域最具革命性和颠覆性的技术之一。近年来,AI的发展一日千里,给各行各业带来了深刻的影响和变革。2024年,AI的创新步伐将进一步加快,预计将在多个领域取得突破性进展。本报告将全面分析2024年人工智能的最新发展趋势和热点领域。\n",
      "\n",
      "大模型与通用人工智能\n",
      "\n",
      "2024年,大模型和通用人工智能(AGI)将成为人工智能领域的核心研究方向。大模型通过海量数据训练,展现出惊人的泛化能力,可以应用于多种任务。2024年,大模型的规模和性能将进一步提升,有望在自然语言处理、计算机视觉、决策推理等多个领域取得突破。\n",
      "\n",
      "与此同时,通用人工智能的研究也将加速推进。科学家们将致力于开发具有类人般智能的AGI系统,以期实现真正的人工通用智能。虽然AGI的实现仍面临重重挑战,但2024年有望在理论建模、算法优化等方面取得重大进展。\n",
      "\n",
      "人工智能与元宇宙融合\n",
      "\n",
      "元宇宙被视为未来数字世界的重要组成部分,而人工智能则是实现元宇宙的关键技术支撑。2024年,人工智能与元宇宙的融合将成为一大热点。AI技术将广泛应用于元宇宙中的虚拟人物建模、场景生成、交互体验优化等领域,为用户带来更加身临其境的沉浸式体验。\n",
      "\n",
      "同时,元宇宙也将为人工智能提供海量的真实数据和应用场景,推动AI算法和模型的进一步优化和发展。人工智能与元宇宙的深度融合,将催生出新的应用场景和商业模式。\n",
      "\n",
      "人工智能伦理与隐私保护\n",
      "\n",
      "随着人工智能的不断发展,AI伦理和隐私保护问题日益受到重视。2024年,这一领域将成为人工智能研究的重点。科学家们将致力于建立AI伦理准则和隐私保护机制,确保人工智能系统的公平性、透明度和可解释性,避免潜在的歧视和隐私泄露风险。\n",
      "\n",
      "同时,相关法律法规的制定和完善也将成为重中之重,以规范人工智能的研发和应用,保护公众利益。人工智能伦理和隐私保护将成为人工智能可持续发展的基石。\n",
      "\n",
      "结语\n",
      "\n",
      "2024年,人工智能将在多个领域取得突破性进展,给我们的生活、工作和社会带来深远影响。大模型、通用人工智能、元宇宙融合、伦理与隐私保护等将成为人工智能发展的核心主题。我们有理由相信,2024年将是人工智能发展的重要一年,也将为未来的智能时代奠定坚实基础。\u001b[0m\n",
      "\n",
      "\u001b[1m> Finished chain.\u001b[0m\n",
      "\u001b[1m\u001b[92m [DEBUG]: == [资深行业分析师] Task output: 2024年人工智能最新进展全面分析报告\n",
      "\n",
      "前言\n",
      "\n",
      "人工智能(AI)是当今科技领域最具革命性和颠覆性的技术之一。近年来,AI的发展一日千里,给各行各业带来了深刻的影响和变革。2024年,AI的创新步伐将进一步加快,预计将在多个领域取得突破性进展。本报告将全面分析2024年人工智能的最新发展趋势和热点领域。\n",
      "\n",
      "大模型与通用人工智能\n",
      "\n",
      "2024年,大模型和通用人工智能(AGI)将成为人工智能领域的核心研究方向。大模型通过海量数据训练,展现出惊人的泛化能力,可以应用于多种任务。2024年,大模型的规模和性能将进一步提升,有望在自然语言处理、计算机视觉、决策推理等多个领域取得突破。\n",
      "\n",
      "与此同时,通用人工智能的研究也将加速推进。科学家们将致力于开发具有类人般智能的AGI系统,以期实现真正的人工通用智能。虽然AGI的实现仍面临重重挑战,但2024年有望在理论建模、算法优化等方面取得重大进展。\n",
      "\n",
      "人工智能与元宇宙融合\n",
      "\n",
      "元宇宙被视为未来数字世界的重要组成部分,而人工智能则是实现元宇宙的关键技术支撑。2024年,人工智能与元宇宙的融合将成为一大热点。AI技术将广泛应用于元宇宙中的虚拟人物建模、场景生成、交互体验优化等领域,为用户带来更加身临其境的沉浸式体验。\n",
      "\n",
      "同时,元宇宙也将为人工智能提供海量的真实数据和应用场景,推动AI算法和模型的进一步优化和发展。人工智能与元宇宙的深度融合,将催生出新的应用场景和商业模式。\n",
      "\n",
      "人工智能伦理与隐私保护\n",
      "\n",
      "随着人工智能的不断发展,AI伦理和隐私保护问题日益受到重视。2024年,这一领域将成为人工智能研究的重点。科学家们将致力于建立AI伦理准则和隐私保护机制,确保人工智能系统的公平性、透明度和可解释性,避免潜在的歧视和隐私泄露风险。\n",
      "\n",
      "同时,相关法律法规的制定和完善也将成为重中之重,以规范人工智能的研发和应用,保护公众利益。人工智能伦理和隐私保护将成为人工智能可持续发展的基石。\n",
      "\n",
      "结语\n",
      "\n",
      "2024年,人工智能将在多个领域取得突破性进展,给我们的生活、工作和社会带来深远影响。大模型、通用人工智能、元宇宙融合、伦理与隐私保护等将成为人工智能发展的核心主题。我们有理由相信,2024年将是人工智能发展的重要一年,也将为未来的智能时代奠定坚实基础。\n",
      "\n",
      "\u001b[00m\n"
     ]
    }
   ],
   "source": [
    "result = crew.kickoff()"
   ]
  },
  {
   "cell_type": "code",
   "execution_count": null,
   "id": "fca8015d",
   "metadata": {},
   "outputs": [],
   "source": []
  }
 ],
 "metadata": {
  "kernelspec": {
   "display_name": "conda_pytorch_p310",
   "language": "python",
   "name": "conda_pytorch_p310"
  },
  "language_info": {
   "codemirror_mode": {
    "name": "ipython",
    "version": 3
   },
   "file_extension": ".py",
   "mimetype": "text/x-python",
   "name": "python",
   "nbconvert_exporter": "python",
   "pygments_lexer": "ipython3",
   "version": "3.10.14"
  }
 },
 "nbformat": 4,
 "nbformat_minor": 5
}
